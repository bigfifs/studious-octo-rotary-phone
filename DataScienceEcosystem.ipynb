{
  "metadata": {
    "kernelspec": {
      "name": "python",
      "display_name": "Python (Pyodide)",
      "language": "python"
    },
    "language_info": {
      "codemirror_mode": {
        "name": "python",
        "version": 3
      },
      "file_extension": ".py",
      "mimetype": "text/x-python",
      "name": "python",
      "nbconvert_exporter": "python",
      "pygments_lexer": "ipython3",
      "version": "3.8"
    }
  },
  "nbformat_minor": 5,
  "nbformat": 4,
  "cells": [
    {
      "id": "58b39dec-6f36-488a-8863-1f4c3a702fd9",
      "cell_type": "markdown",
      "source": "# Data Science Tools and Ecosystem",
      "metadata": {}
    },
    {
      "id": "cbb36846-db98-46ee-acd1-8a296bc046fb",
      "cell_type": "markdown",
      "source": "In this notebook, Data Science Tools and Ecosystem are summarized.",
      "metadata": {}
    },
    {
      "id": "098bf16a-1c79-4360-8ca8-009b3714cb25",
      "cell_type": "markdown",
      "source": "**Objectives:**\n- List popular languages for Data Science\n- List popular libraries usede by Data Scientists\n- Evaluate simple arithmetic expressions",
      "metadata": {}
    },
    {
      "id": "8f9a557a-e6f5-444c-951a-ab50081c02ae",
      "cell_type": "markdown",
      "source": "Some of the popular languages that Data Scientists use are:\n1. SQL\n2. Python\n3. C++\n4. R",
      "metadata": {}
    },
    {
      "id": "10dbf8ee-a686-4fc2-a7ea-824be222f4fd",
      "cell_type": "markdown",
      "source": "Some of the commonly used libraries used by Data Scientists include:\n1. Pandas\n2. NumPy\n3. Matplotlib\n4. PyTorch",
      "metadata": {}
    },
    {
      "id": "8c00e814-c025-48b3-9837-c8b252e2e722",
      "cell_type": "markdown",
      "source": "| Data Science Tools |\n|---|\n| RStudio |\n| ApacheSpark |\n| TensorFlow |\n",
      "metadata": {}
    },
    {
      "id": "313cd898-e1fd-4643-9137-3dc95b5ad6af",
      "cell_type": "markdown",
      "source": "### Below are a few examples of evaluating arithmetic expressions in Python.",
      "metadata": {}
    },
    {
      "id": "7683dd82-0955-47f3-9e25-c26947a8f435",
      "cell_type": "code",
      "source": " #This a simple arithmetic expression to mutiply then add integers\n(3*4)+5",
      "metadata": {
        "trusted": true
      },
      "outputs": [
        {
          "execution_count": 4,
          "output_type": "execute_result",
          "data": {
            "text/plain": "17"
          },
          "metadata": {}
        }
      ],
      "execution_count": 4
    },
    {
      "id": "09009ee0-51e0-41b0-b3c5-85d42ee54a79",
      "cell_type": "code",
      "source": "#This will convert 200 minutes to hours by diving by 60\n200/60",
      "metadata": {
        "trusted": true
      },
      "outputs": [
        {
          "execution_count": 5,
          "output_type": "execute_result",
          "data": {
            "text/plain": "3.3333333333333335"
          },
          "metadata": {}
        }
      ],
      "execution_count": 5
    },
    {
      "id": "e86439cb-f9ef-41ed-b5e6-5cc85b7d88de",
      "cell_type": "markdown",
      "source": "## Author\nFilip N",
      "metadata": {}
    }
  ]
}